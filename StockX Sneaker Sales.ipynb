{
 "cells": [
  {
   "cell_type": "markdown",
   "metadata": {},
   "source": [
    "# StockX Sneaker Sales\n",
    "_Author: Zeth De Luna &mdash; October 14, 2020_\n",
    "\n",
    "I'm a little late to the game, but in my quest to find an interesting dataset to analyze I stumbled upon an old data contest presented by [StockX](https://stockx.com/how-it-works), a popular website that allows its users to buy or sell items (most commonly&mdash;but not limited to&mdash;shoes, clothing, and accessories) at their current \"market value\". I mostly browse the website for high-end and rare sneakers, which is why I got excited when I found that the data that StockX provided for their contest is focused on sneaker sales. \n",
    "\n",
    "Here's a brief intro to the [contest details](https://stockx.com/news/the-2019-data-contest/) from the StockX website:\n",
    "\n",
    "\"Since the very beginning of StockX, data and transparency have been at the very core of our business. It’s in our DNA. Remember when those Jurassic Park scientists drilled into an amber-encased mosquito, extracted the genetic material of some long-dead dinosaur, and created an amoral army of prehistoric killing machines? Well, if scientists ever did that to StockX, data and transparency is what they’d find. Those two ideas are fundamental to our business and our brand, and have been that way since back when we were Campless. They underlie everything we do – from the symbols on our stock ticker to the charts on our product pages. And now, we want you to join the fun. Enter the 2019 StockX Data Contest.\n",
    "\n",
    "The first time we launched this contest was way back in 2017, and we’re excited to bring it back. The basic idea is this: we give you a bunch of original StockX sneaker data, then you crunch the numbers and come up with the coolest, smartest, most compelling story you can tell. It can be literally anything you want. A theory, an insight, even just a really original data visualization. It could be a novel hypothesis about resale prices you’ve always wanted to test. Or maybe it’s just a beautiful chart to visualize the data. It can be on any subject – sneakers, brands, buyers, or even StockX itself. Whatever you find interesting, just follow your bliss.\"\n",
    "\n",
    "In this project, I hope to answer the following questions:\n",
    "* Are customers in certain regions more likely to spend more on sneakers?\n",
    "* Is there a higher chance of making money re-selling larger shoe sizes or smaller shoe sizes?\n",
    "* What is the average ROI on re-selling Yeezy shoes vs. Off-White x Nike?\n",
    "* Do these sneakers sell more during a certain time of the year?\n",
    "* Are Yeezy and Off-White sales increasing or decreasing?"
   ]
  },
  {
   "cell_type": "markdown",
   "metadata": {},
   "source": [
    "#### Import Libraries"
   ]
  },
  {
   "cell_type": "code",
   "execution_count": 1,
   "metadata": {},
   "outputs": [
    {
     "name": "stderr",
     "output_type": "stream",
     "text": [
      "/Library/Frameworks/Python.framework/Versions/3.7/lib/python3.7/site-packages/statsmodels/tools/_testing.py:19: FutureWarning: pandas.util.testing is deprecated. Use the functions in the public API at pandas.testing instead.\n",
      "  import pandas.util.testing as tm\n"
     ]
    }
   ],
   "source": [
    "import pandas as pd\n",
    "import numpy as np\n",
    "import datetime as dt\n",
    "\n",
    "import matplotlib.pyplot as plt\n",
    "from matplotlib.patches import ConnectionPatch\n",
    "import seaborn as sns\n",
    "\n",
    "purple = (85/255, 37/255, 130/255)\n",
    "gold = (253/255, 185/255, 39/255)\n",
    "gray = (67/255, 67/255, 67/255)\n",
    "mpls = (117/255, 157/255, 210/255)\n",
    "\n",
    "lakers = [purple, gold, gray, mpls]\n",
    "\n",
    "%matplotlib inline"
   ]
  },
  {
   "cell_type": "markdown",
   "metadata": {},
   "source": [
    "## Reading the Data"
   ]
  },
  {
   "cell_type": "code",
   "execution_count": 2,
   "metadata": {},
   "outputs": [],
   "source": [
    "sneakers = pd.read_csv('StockX_Data_Contest_2019.csv')"
   ]
  },
  {
   "cell_type": "code",
   "execution_count": 3,
   "metadata": {},
   "outputs": [
    {
     "data": {
      "text/html": [
       "<div>\n",
       "<style scoped>\n",
       "    .dataframe tbody tr th:only-of-type {\n",
       "        vertical-align: middle;\n",
       "    }\n",
       "\n",
       "    .dataframe tbody tr th {\n",
       "        vertical-align: top;\n",
       "    }\n",
       "\n",
       "    .dataframe thead th {\n",
       "        text-align: right;\n",
       "    }\n",
       "</style>\n",
       "<table border=\"1\" class=\"dataframe\">\n",
       "  <thead>\n",
       "    <tr style=\"text-align: right;\">\n",
       "      <th></th>\n",
       "      <th>Order Date</th>\n",
       "      <th>Brand</th>\n",
       "      <th>Sneaker Name</th>\n",
       "      <th>Sale Price</th>\n",
       "      <th>Retail Price</th>\n",
       "      <th>Release Date</th>\n",
       "      <th>Shoe Size</th>\n",
       "      <th>Buyer Region</th>\n",
       "    </tr>\n",
       "  </thead>\n",
       "  <tbody>\n",
       "    <tr>\n",
       "      <th>0</th>\n",
       "      <td>9/1/17</td>\n",
       "      <td>Yeezy</td>\n",
       "      <td>Adidas-Yeezy-Boost-350-Low-V2-Beluga</td>\n",
       "      <td>$1,097</td>\n",
       "      <td>$220</td>\n",
       "      <td>9/24/16</td>\n",
       "      <td>11.0</td>\n",
       "      <td>California</td>\n",
       "    </tr>\n",
       "    <tr>\n",
       "      <th>1</th>\n",
       "      <td>9/1/17</td>\n",
       "      <td>Yeezy</td>\n",
       "      <td>Adidas-Yeezy-Boost-350-V2-Core-Black-Copper</td>\n",
       "      <td>$685</td>\n",
       "      <td>$220</td>\n",
       "      <td>11/23/16</td>\n",
       "      <td>11.0</td>\n",
       "      <td>California</td>\n",
       "    </tr>\n",
       "    <tr>\n",
       "      <th>2</th>\n",
       "      <td>9/1/17</td>\n",
       "      <td>Yeezy</td>\n",
       "      <td>Adidas-Yeezy-Boost-350-V2-Core-Black-Green</td>\n",
       "      <td>$690</td>\n",
       "      <td>$220</td>\n",
       "      <td>11/23/16</td>\n",
       "      <td>11.0</td>\n",
       "      <td>California</td>\n",
       "    </tr>\n",
       "    <tr>\n",
       "      <th>3</th>\n",
       "      <td>9/1/17</td>\n",
       "      <td>Yeezy</td>\n",
       "      <td>Adidas-Yeezy-Boost-350-V2-Core-Black-Red</td>\n",
       "      <td>$1,075</td>\n",
       "      <td>$220</td>\n",
       "      <td>11/23/16</td>\n",
       "      <td>11.5</td>\n",
       "      <td>Kentucky</td>\n",
       "    </tr>\n",
       "    <tr>\n",
       "      <th>4</th>\n",
       "      <td>9/1/17</td>\n",
       "      <td>Yeezy</td>\n",
       "      <td>Adidas-Yeezy-Boost-350-V2-Core-Black-Red-2017</td>\n",
       "      <td>$828</td>\n",
       "      <td>$220</td>\n",
       "      <td>2/11/17</td>\n",
       "      <td>11.0</td>\n",
       "      <td>Rhode Island</td>\n",
       "    </tr>\n",
       "  </tbody>\n",
       "</table>\n",
       "</div>"
      ],
      "text/plain": [
       "  Order Date   Brand                                   Sneaker Name  \\\n",
       "0     9/1/17   Yeezy           Adidas-Yeezy-Boost-350-Low-V2-Beluga   \n",
       "1     9/1/17   Yeezy    Adidas-Yeezy-Boost-350-V2-Core-Black-Copper   \n",
       "2     9/1/17   Yeezy     Adidas-Yeezy-Boost-350-V2-Core-Black-Green   \n",
       "3     9/1/17   Yeezy       Adidas-Yeezy-Boost-350-V2-Core-Black-Red   \n",
       "4     9/1/17   Yeezy  Adidas-Yeezy-Boost-350-V2-Core-Black-Red-2017   \n",
       "\n",
       "  Sale Price Retail Price Release Date  Shoe Size  Buyer Region  \n",
       "0     $1,097         $220      9/24/16       11.0    California  \n",
       "1       $685         $220     11/23/16       11.0    California  \n",
       "2       $690         $220     11/23/16       11.0    California  \n",
       "3     $1,075         $220     11/23/16       11.5      Kentucky  \n",
       "4       $828         $220      2/11/17       11.0  Rhode Island  "
      ]
     },
     "execution_count": 3,
     "metadata": {},
     "output_type": "execute_result"
    }
   ],
   "source": [
    "sneakers.head()"
   ]
  },
  {
   "cell_type": "code",
   "execution_count": 4,
   "metadata": {},
   "outputs": [
    {
     "name": "stdout",
     "output_type": "stream",
     "text": [
      "<class 'pandas.core.frame.DataFrame'>\n",
      "RangeIndex: 99956 entries, 0 to 99955\n",
      "Data columns (total 8 columns):\n",
      " #   Column        Non-Null Count  Dtype  \n",
      "---  ------        --------------  -----  \n",
      " 0   Order Date    99956 non-null  object \n",
      " 1   Brand         99956 non-null  object \n",
      " 2   Sneaker Name  99956 non-null  object \n",
      " 3   Sale Price    99956 non-null  object \n",
      " 4   Retail Price  99956 non-null  object \n",
      " 5   Release Date  99956 non-null  object \n",
      " 6   Shoe Size     99956 non-null  float64\n",
      " 7   Buyer Region  99956 non-null  object \n",
      "dtypes: float64(1), object(7)\n",
      "memory usage: 6.1+ MB\n"
     ]
    }
   ],
   "source": [
    "sneakers.info()"
   ]
  },
  {
   "cell_type": "markdown",
   "metadata": {},
   "source": [
    "## Data Cleaning\n",
    "The data would be more easily explored if:\n",
    "* the `Order Date` and `Release Date` columns were in a datetime format\n",
    "* the `Sale Price` and `Retail Price` columns were transformed to a numerical type\n",
    "* the `Sneaker Name` column was less hectic\n",
    "\n",
    "### `Order Date` and `Release Date`\n",
    "In its current format, the dates are stored as strings following a \\[month/day/year\\] order. "
   ]
  },
  {
   "cell_type": "code",
   "execution_count": 5,
   "metadata": {},
   "outputs": [],
   "source": [
    "# transform date columns to datetime dtype\n",
    "for column in ['Order Date', 'Release Date']:\n",
    "    sneakers[column] = pd.to_datetime(sneakers[column], format='%m/%d/%y')"
   ]
  },
  {
   "cell_type": "code",
   "execution_count": 6,
   "metadata": {},
   "outputs": [
    {
     "data": {
      "text/html": [
       "<div>\n",
       "<style scoped>\n",
       "    .dataframe tbody tr th:only-of-type {\n",
       "        vertical-align: middle;\n",
       "    }\n",
       "\n",
       "    .dataframe tbody tr th {\n",
       "        vertical-align: top;\n",
       "    }\n",
       "\n",
       "    .dataframe thead th {\n",
       "        text-align: right;\n",
       "    }\n",
       "</style>\n",
       "<table border=\"1\" class=\"dataframe\">\n",
       "  <thead>\n",
       "    <tr style=\"text-align: right;\">\n",
       "      <th></th>\n",
       "      <th>Order Date</th>\n",
       "      <th>Brand</th>\n",
       "      <th>Sneaker Name</th>\n",
       "      <th>Sale Price</th>\n",
       "      <th>Retail Price</th>\n",
       "      <th>Release Date</th>\n",
       "      <th>Shoe Size</th>\n",
       "      <th>Buyer Region</th>\n",
       "    </tr>\n",
       "  </thead>\n",
       "  <tbody>\n",
       "    <tr>\n",
       "      <th>0</th>\n",
       "      <td>2017-09-01</td>\n",
       "      <td>Yeezy</td>\n",
       "      <td>Adidas-Yeezy-Boost-350-Low-V2-Beluga</td>\n",
       "      <td>$1,097</td>\n",
       "      <td>$220</td>\n",
       "      <td>2016-09-24</td>\n",
       "      <td>11.0</td>\n",
       "      <td>California</td>\n",
       "    </tr>\n",
       "    <tr>\n",
       "      <th>1</th>\n",
       "      <td>2017-09-01</td>\n",
       "      <td>Yeezy</td>\n",
       "      <td>Adidas-Yeezy-Boost-350-V2-Core-Black-Copper</td>\n",
       "      <td>$685</td>\n",
       "      <td>$220</td>\n",
       "      <td>2016-11-23</td>\n",
       "      <td>11.0</td>\n",
       "      <td>California</td>\n",
       "    </tr>\n",
       "    <tr>\n",
       "      <th>2</th>\n",
       "      <td>2017-09-01</td>\n",
       "      <td>Yeezy</td>\n",
       "      <td>Adidas-Yeezy-Boost-350-V2-Core-Black-Green</td>\n",
       "      <td>$690</td>\n",
       "      <td>$220</td>\n",
       "      <td>2016-11-23</td>\n",
       "      <td>11.0</td>\n",
       "      <td>California</td>\n",
       "    </tr>\n",
       "    <tr>\n",
       "      <th>3</th>\n",
       "      <td>2017-09-01</td>\n",
       "      <td>Yeezy</td>\n",
       "      <td>Adidas-Yeezy-Boost-350-V2-Core-Black-Red</td>\n",
       "      <td>$1,075</td>\n",
       "      <td>$220</td>\n",
       "      <td>2016-11-23</td>\n",
       "      <td>11.5</td>\n",
       "      <td>Kentucky</td>\n",
       "    </tr>\n",
       "    <tr>\n",
       "      <th>4</th>\n",
       "      <td>2017-09-01</td>\n",
       "      <td>Yeezy</td>\n",
       "      <td>Adidas-Yeezy-Boost-350-V2-Core-Black-Red-2017</td>\n",
       "      <td>$828</td>\n",
       "      <td>$220</td>\n",
       "      <td>2017-02-11</td>\n",
       "      <td>11.0</td>\n",
       "      <td>Rhode Island</td>\n",
       "    </tr>\n",
       "  </tbody>\n",
       "</table>\n",
       "</div>"
      ],
      "text/plain": [
       "  Order Date   Brand                                   Sneaker Name  \\\n",
       "0 2017-09-01   Yeezy           Adidas-Yeezy-Boost-350-Low-V2-Beluga   \n",
       "1 2017-09-01   Yeezy    Adidas-Yeezy-Boost-350-V2-Core-Black-Copper   \n",
       "2 2017-09-01   Yeezy     Adidas-Yeezy-Boost-350-V2-Core-Black-Green   \n",
       "3 2017-09-01   Yeezy       Adidas-Yeezy-Boost-350-V2-Core-Black-Red   \n",
       "4 2017-09-01   Yeezy  Adidas-Yeezy-Boost-350-V2-Core-Black-Red-2017   \n",
       "\n",
       "  Sale Price Retail Price Release Date  Shoe Size  Buyer Region  \n",
       "0     $1,097         $220   2016-09-24       11.0    California  \n",
       "1       $685         $220   2016-11-23       11.0    California  \n",
       "2       $690         $220   2016-11-23       11.0    California  \n",
       "3     $1,075         $220   2016-11-23       11.5      Kentucky  \n",
       "4       $828         $220   2017-02-11       11.0  Rhode Island  "
      ]
     },
     "execution_count": 6,
     "metadata": {},
     "output_type": "execute_result"
    }
   ],
   "source": [
    "sneakers.head()"
   ]
  },
  {
   "cell_type": "markdown",
   "metadata": {},
   "source": [
    "### `Sale Price` and `Retail Price`\n",
    "After removing dollar signs and commas from these values, they can be converted to `int`."
   ]
  },
  {
   "cell_type": "code",
   "execution_count": 7,
   "metadata": {},
   "outputs": [],
   "source": [
    "# convert price columns to int\n",
    "for column in ['Sale Price', 'Retail Price']:\n",
    "    sneakers[column] = (sneakers[column]\n",
    "                            .str.replace('\\$|,', '') # remove dollar signs and commas\n",
    "                            .astype(int) # convert to int dtype\n",
    "                       )"
   ]
  },
  {
   "cell_type": "code",
   "execution_count": 8,
   "metadata": {},
   "outputs": [
    {
     "data": {
      "text/html": [
       "<div>\n",
       "<style scoped>\n",
       "    .dataframe tbody tr th:only-of-type {\n",
       "        vertical-align: middle;\n",
       "    }\n",
       "\n",
       "    .dataframe tbody tr th {\n",
       "        vertical-align: top;\n",
       "    }\n",
       "\n",
       "    .dataframe thead th {\n",
       "        text-align: right;\n",
       "    }\n",
       "</style>\n",
       "<table border=\"1\" class=\"dataframe\">\n",
       "  <thead>\n",
       "    <tr style=\"text-align: right;\">\n",
       "      <th></th>\n",
       "      <th>Order Date</th>\n",
       "      <th>Brand</th>\n",
       "      <th>Sneaker Name</th>\n",
       "      <th>Sale Price</th>\n",
       "      <th>Retail Price</th>\n",
       "      <th>Release Date</th>\n",
       "      <th>Shoe Size</th>\n",
       "      <th>Buyer Region</th>\n",
       "    </tr>\n",
       "  </thead>\n",
       "  <tbody>\n",
       "    <tr>\n",
       "      <th>0</th>\n",
       "      <td>2017-09-01</td>\n",
       "      <td>Yeezy</td>\n",
       "      <td>Adidas-Yeezy-Boost-350-Low-V2-Beluga</td>\n",
       "      <td>1097</td>\n",
       "      <td>220</td>\n",
       "      <td>2016-09-24</td>\n",
       "      <td>11.0</td>\n",
       "      <td>California</td>\n",
       "    </tr>\n",
       "    <tr>\n",
       "      <th>1</th>\n",
       "      <td>2017-09-01</td>\n",
       "      <td>Yeezy</td>\n",
       "      <td>Adidas-Yeezy-Boost-350-V2-Core-Black-Copper</td>\n",
       "      <td>685</td>\n",
       "      <td>220</td>\n",
       "      <td>2016-11-23</td>\n",
       "      <td>11.0</td>\n",
       "      <td>California</td>\n",
       "    </tr>\n",
       "    <tr>\n",
       "      <th>2</th>\n",
       "      <td>2017-09-01</td>\n",
       "      <td>Yeezy</td>\n",
       "      <td>Adidas-Yeezy-Boost-350-V2-Core-Black-Green</td>\n",
       "      <td>690</td>\n",
       "      <td>220</td>\n",
       "      <td>2016-11-23</td>\n",
       "      <td>11.0</td>\n",
       "      <td>California</td>\n",
       "    </tr>\n",
       "    <tr>\n",
       "      <th>3</th>\n",
       "      <td>2017-09-01</td>\n",
       "      <td>Yeezy</td>\n",
       "      <td>Adidas-Yeezy-Boost-350-V2-Core-Black-Red</td>\n",
       "      <td>1075</td>\n",
       "      <td>220</td>\n",
       "      <td>2016-11-23</td>\n",
       "      <td>11.5</td>\n",
       "      <td>Kentucky</td>\n",
       "    </tr>\n",
       "    <tr>\n",
       "      <th>4</th>\n",
       "      <td>2017-09-01</td>\n",
       "      <td>Yeezy</td>\n",
       "      <td>Adidas-Yeezy-Boost-350-V2-Core-Black-Red-2017</td>\n",
       "      <td>828</td>\n",
       "      <td>220</td>\n",
       "      <td>2017-02-11</td>\n",
       "      <td>11.0</td>\n",
       "      <td>Rhode Island</td>\n",
       "    </tr>\n",
       "  </tbody>\n",
       "</table>\n",
       "</div>"
      ],
      "text/plain": [
       "  Order Date   Brand                                   Sneaker Name  \\\n",
       "0 2017-09-01   Yeezy           Adidas-Yeezy-Boost-350-Low-V2-Beluga   \n",
       "1 2017-09-01   Yeezy    Adidas-Yeezy-Boost-350-V2-Core-Black-Copper   \n",
       "2 2017-09-01   Yeezy     Adidas-Yeezy-Boost-350-V2-Core-Black-Green   \n",
       "3 2017-09-01   Yeezy       Adidas-Yeezy-Boost-350-V2-Core-Black-Red   \n",
       "4 2017-09-01   Yeezy  Adidas-Yeezy-Boost-350-V2-Core-Black-Red-2017   \n",
       "\n",
       "   Sale Price  Retail Price Release Date  Shoe Size  Buyer Region  \n",
       "0        1097           220   2016-09-24       11.0    California  \n",
       "1         685           220   2016-11-23       11.0    California  \n",
       "2         690           220   2016-11-23       11.0    California  \n",
       "3        1075           220   2016-11-23       11.5      Kentucky  \n",
       "4         828           220   2017-02-11       11.0  Rhode Island  "
      ]
     },
     "execution_count": 8,
     "metadata": {},
     "output_type": "execute_result"
    }
   ],
   "source": [
    "sneakers.head()"
   ]
  },
  {
   "cell_type": "markdown",
   "metadata": {},
   "source": [
    "### `Sneaker Name`"
   ]
  },
  {
   "cell_type": "code",
   "execution_count": 9,
   "metadata": {},
   "outputs": [
    {
     "data": {
      "text/plain": [
       " Yeezy       72162\n",
       "Off-White    27794\n",
       "Name: Brand, dtype: int64"
      ]
     },
     "execution_count": 9,
     "metadata": {},
     "output_type": "execute_result"
    }
   ],
   "source": [
    "sneakers['Brand'].value_counts()"
   ]
  },
  {
   "cell_type": "code",
   "execution_count": 10,
   "metadata": {},
   "outputs": [
    {
     "data": {
      "text/html": [
       "<div>\n",
       "<style scoped>\n",
       "    .dataframe tbody tr th:only-of-type {\n",
       "        vertical-align: middle;\n",
       "    }\n",
       "\n",
       "    .dataframe tbody tr th {\n",
       "        vertical-align: top;\n",
       "    }\n",
       "\n",
       "    .dataframe thead th {\n",
       "        text-align: right;\n",
       "    }\n",
       "</style>\n",
       "<table border=\"1\" class=\"dataframe\">\n",
       "  <thead>\n",
       "    <tr style=\"text-align: right;\">\n",
       "      <th></th>\n",
       "      <th>Order Date</th>\n",
       "      <th>Brand</th>\n",
       "      <th>Sneaker Name</th>\n",
       "      <th>Sale Price</th>\n",
       "      <th>Retail Price</th>\n",
       "      <th>Release Date</th>\n",
       "      <th>Shoe Size</th>\n",
       "      <th>Buyer Region</th>\n",
       "    </tr>\n",
       "  </thead>\n",
       "  <tbody>\n",
       "    <tr>\n",
       "      <th>128</th>\n",
       "      <td>2017-09-07</td>\n",
       "      <td>Off-White</td>\n",
       "      <td>Nike-Air-Max-90-Off-White</td>\n",
       "      <td>1600</td>\n",
       "      <td>160</td>\n",
       "      <td>2017-09-09</td>\n",
       "      <td>8.0</td>\n",
       "      <td>California</td>\n",
       "    </tr>\n",
       "    <tr>\n",
       "      <th>129</th>\n",
       "      <td>2017-09-07</td>\n",
       "      <td>Off-White</td>\n",
       "      <td>Nike-Air-Max-90-Off-White</td>\n",
       "      <td>1090</td>\n",
       "      <td>160</td>\n",
       "      <td>2017-09-09</td>\n",
       "      <td>11.5</td>\n",
       "      <td>New York</td>\n",
       "    </tr>\n",
       "    <tr>\n",
       "      <th>130</th>\n",
       "      <td>2017-09-07</td>\n",
       "      <td>Off-White</td>\n",
       "      <td>Nike-Air-Presto-Off-White</td>\n",
       "      <td>1344</td>\n",
       "      <td>160</td>\n",
       "      <td>2017-09-09</td>\n",
       "      <td>10.0</td>\n",
       "      <td>New York</td>\n",
       "    </tr>\n",
       "    <tr>\n",
       "      <th>131</th>\n",
       "      <td>2017-09-07</td>\n",
       "      <td>Off-White</td>\n",
       "      <td>Nike-Air-Presto-Off-White</td>\n",
       "      <td>1325</td>\n",
       "      <td>160</td>\n",
       "      <td>2017-09-09</td>\n",
       "      <td>10.0</td>\n",
       "      <td>Massachusetts</td>\n",
       "    </tr>\n",
       "    <tr>\n",
       "      <th>132</th>\n",
       "      <td>2017-09-07</td>\n",
       "      <td>Off-White</td>\n",
       "      <td>Nike-Air-VaporMax-Off-White</td>\n",
       "      <td>1800</td>\n",
       "      <td>250</td>\n",
       "      <td>2017-09-09</td>\n",
       "      <td>12.0</td>\n",
       "      <td>Kentucky</td>\n",
       "    </tr>\n",
       "  </tbody>\n",
       "</table>\n",
       "</div>"
      ],
      "text/plain": [
       "    Order Date      Brand                 Sneaker Name  Sale Price  \\\n",
       "128 2017-09-07  Off-White    Nike-Air-Max-90-Off-White        1600   \n",
       "129 2017-09-07  Off-White    Nike-Air-Max-90-Off-White        1090   \n",
       "130 2017-09-07  Off-White    Nike-Air-Presto-Off-White        1344   \n",
       "131 2017-09-07  Off-White    Nike-Air-Presto-Off-White        1325   \n",
       "132 2017-09-07  Off-White  Nike-Air-VaporMax-Off-White        1800   \n",
       "\n",
       "     Retail Price Release Date  Shoe Size   Buyer Region  \n",
       "128           160   2017-09-09        8.0     California  \n",
       "129           160   2017-09-09       11.5       New York  \n",
       "130           160   2017-09-09       10.0       New York  \n",
       "131           160   2017-09-09       10.0  Massachusetts  \n",
       "132           250   2017-09-09       12.0       Kentucky  "
      ]
     },
     "execution_count": 10,
     "metadata": {},
     "output_type": "execute_result"
    }
   ],
   "source": [
    "# view some Off-White sales\n",
    "sneakers[sneakers['Brand'] == 'Off-White'].head()"
   ]
  },
  {
   "cell_type": "markdown",
   "metadata": {},
   "source": [
    "On the [contest website](https://stockx.com/news/the-2019-data-contest/), it is stated that the data only contains sales data on either \"Yeezy\" or \"Off-White x Nike\" shoes. Since there is already a `Brand` column, the brands can be removed from the names in the `Sneaker Name` column."
   ]
  },
  {
   "cell_type": "code",
   "execution_count": 11,
   "metadata": {},
   "outputs": [],
   "source": [
    "# remove brand names from sneaker names\n",
    "brands = 'Nike-|-Off-White|[Aa]didas-'\n",
    "sneakers['Sneaker Name'] = sneakers['Sneaker Name'].str.replace(brands, '')\n",
    "\n",
    "# remove whitespaces from 'Brand' column\n",
    "sneakers['Brand'] = sneakers['Brand'].str.strip()"
   ]
  },
  {
   "cell_type": "markdown",
   "metadata": {},
   "source": [
    "### Return on Investments Column\n",
    "One of the questions asked in the intro has to do with the return on investmets (ROI) for re-selling sneakers. This information can be found by simply finding the difference between the `Sale Price` and the `Retail Price`, which will be stored in a new column called `ROI`. (It will be assumed that the seller obtained the shoes at retail price.)"
   ]
  },
  {
   "cell_type": "code",
   "execution_count": 12,
   "metadata": {},
   "outputs": [],
   "source": [
    "# calculate ROI for each sale and assign to a new column\n",
    "sneakers['ROI'] = sneakers['Sale Price'] - sneakers['Retail Price']"
   ]
  },
  {
   "cell_type": "code",
   "execution_count": 13,
   "metadata": {},
   "outputs": [
    {
     "data": {
      "text/html": [
       "<div>\n",
       "<style scoped>\n",
       "    .dataframe tbody tr th:only-of-type {\n",
       "        vertical-align: middle;\n",
       "    }\n",
       "\n",
       "    .dataframe tbody tr th {\n",
       "        vertical-align: top;\n",
       "    }\n",
       "\n",
       "    .dataframe thead th {\n",
       "        text-align: right;\n",
       "    }\n",
       "</style>\n",
       "<table border=\"1\" class=\"dataframe\">\n",
       "  <thead>\n",
       "    <tr style=\"text-align: right;\">\n",
       "      <th></th>\n",
       "      <th>Order Date</th>\n",
       "      <th>Brand</th>\n",
       "      <th>Sneaker Name</th>\n",
       "      <th>Sale Price</th>\n",
       "      <th>Retail Price</th>\n",
       "      <th>Release Date</th>\n",
       "      <th>Shoe Size</th>\n",
       "      <th>Buyer Region</th>\n",
       "      <th>ROI</th>\n",
       "    </tr>\n",
       "  </thead>\n",
       "  <tbody>\n",
       "    <tr>\n",
       "      <th>0</th>\n",
       "      <td>2017-09-01</td>\n",
       "      <td>Yeezy</td>\n",
       "      <td>Yeezy-Boost-350-Low-V2-Beluga</td>\n",
       "      <td>1097</td>\n",
       "      <td>220</td>\n",
       "      <td>2016-09-24</td>\n",
       "      <td>11.0</td>\n",
       "      <td>California</td>\n",
       "      <td>877</td>\n",
       "    </tr>\n",
       "    <tr>\n",
       "      <th>1</th>\n",
       "      <td>2017-09-01</td>\n",
       "      <td>Yeezy</td>\n",
       "      <td>Yeezy-Boost-350-V2-Core-Black-Copper</td>\n",
       "      <td>685</td>\n",
       "      <td>220</td>\n",
       "      <td>2016-11-23</td>\n",
       "      <td>11.0</td>\n",
       "      <td>California</td>\n",
       "      <td>465</td>\n",
       "    </tr>\n",
       "    <tr>\n",
       "      <th>2</th>\n",
       "      <td>2017-09-01</td>\n",
       "      <td>Yeezy</td>\n",
       "      <td>Yeezy-Boost-350-V2-Core-Black-Green</td>\n",
       "      <td>690</td>\n",
       "      <td>220</td>\n",
       "      <td>2016-11-23</td>\n",
       "      <td>11.0</td>\n",
       "      <td>California</td>\n",
       "      <td>470</td>\n",
       "    </tr>\n",
       "    <tr>\n",
       "      <th>3</th>\n",
       "      <td>2017-09-01</td>\n",
       "      <td>Yeezy</td>\n",
       "      <td>Yeezy-Boost-350-V2-Core-Black-Red</td>\n",
       "      <td>1075</td>\n",
       "      <td>220</td>\n",
       "      <td>2016-11-23</td>\n",
       "      <td>11.5</td>\n",
       "      <td>Kentucky</td>\n",
       "      <td>855</td>\n",
       "    </tr>\n",
       "    <tr>\n",
       "      <th>4</th>\n",
       "      <td>2017-09-01</td>\n",
       "      <td>Yeezy</td>\n",
       "      <td>Yeezy-Boost-350-V2-Core-Black-Red-2017</td>\n",
       "      <td>828</td>\n",
       "      <td>220</td>\n",
       "      <td>2017-02-11</td>\n",
       "      <td>11.0</td>\n",
       "      <td>Rhode Island</td>\n",
       "      <td>608</td>\n",
       "    </tr>\n",
       "  </tbody>\n",
       "</table>\n",
       "</div>"
      ],
      "text/plain": [
       "  Order Date  Brand                            Sneaker Name  Sale Price  \\\n",
       "0 2017-09-01  Yeezy           Yeezy-Boost-350-Low-V2-Beluga        1097   \n",
       "1 2017-09-01  Yeezy    Yeezy-Boost-350-V2-Core-Black-Copper         685   \n",
       "2 2017-09-01  Yeezy     Yeezy-Boost-350-V2-Core-Black-Green         690   \n",
       "3 2017-09-01  Yeezy       Yeezy-Boost-350-V2-Core-Black-Red        1075   \n",
       "4 2017-09-01  Yeezy  Yeezy-Boost-350-V2-Core-Black-Red-2017         828   \n",
       "\n",
       "   Retail Price Release Date  Shoe Size  Buyer Region  ROI  \n",
       "0           220   2016-09-24       11.0    California  877  \n",
       "1           220   2016-11-23       11.0    California  465  \n",
       "2           220   2016-11-23       11.0    California  470  \n",
       "3           220   2016-11-23       11.5      Kentucky  855  \n",
       "4           220   2017-02-11       11.0  Rhode Island  608  "
      ]
     },
     "execution_count": 13,
     "metadata": {},
     "output_type": "execute_result"
    }
   ],
   "source": [
    "sneakers.head()"
   ]
  },
  {
   "cell_type": "markdown",
   "metadata": {},
   "source": [
    "Another interesting thing that the ROI tells us is how much more money over the retail price StockX users are willing to pay for shoes."
   ]
  },
  {
   "cell_type": "markdown",
   "metadata": {},
   "source": [
    "## Analysis\n",
    "\n",
    "### Are customers in certain regions more likely to spend more on sneakers?"
   ]
  },
  {
   "cell_type": "code",
   "execution_count": 14,
   "metadata": {},
   "outputs": [
    {
     "data": {
      "image/png": "[encoded data removed]",
      "text/plain": [
       "<Figure size 1296x576 with 2 Axes>"
      ]
     },
     "metadata": {
      "needs_background": "light"
     },
     "output_type": "display_data"
    }
   ],
   "source": [
    "# count number of orders per state\n",
    "orders = sneakers[['Buyer Region']].copy()\n",
    "orders['Orders'] = 1\n",
    "orders = (orders.groupby(['Buyer Region'], as_index=False).sum()\n",
    "              .sort_values('Orders', ascending=False)\n",
    "         )\n",
    "\n",
    "# calculate sales per state\n",
    "sales = (sneakers[['Buyer Region', 'Sale Price']].copy()\n",
    "             .groupby(['Buyer Region'], as_index=False).sum() # sum the sales for each state\n",
    "             .sort_values('Sale Price', ascending=False) # sort \n",
    "        )\n",
    "\n",
    "fig = plt.figure(figsize=(18,8))\n",
    "ax1 = fig.add_subplot(1,2,1)\n",
    "ax2 = fig.add_subplot(1,2,2)\n",
    "for ax in [ax1, ax2]:\n",
    "    for spine in ['top', 'right']:\n",
    "        ax.spines[spine].set_visible(False)\n",
    "\n",
    "sns.barplot(x='Orders', y='Buyer Region', data=orders.iloc[:20], orient='h', ax=ax1)\n",
    "\n",
    "ax1.set_xlabel('Number of Orders', fontsize=12)\n",
    "ax1.set_ylabel('Buyer Region', fontsize=12)\n",
    "ax1.set_title('Top 20 States\\nby Orders', fontsize=14)\n",
    "\n",
    "ax2 = sns.barplot(x='Sale Price', y='Buyer Region', data=sales.iloc[:20], orient='h')\n",
    "ax2.set_xlabel('Total Sales ($)', fontsize=12)\n",
    "ax2.set_ylabel('')\n",
    "ax2.set_title('Top 20 States\\nby Sales', fontsize=14)\n",
    "\n",
    "plt.show()"
   ]
  },
  {
   "cell_type": "markdown",
   "metadata": {},
   "source": [
    "* StockX users in California and New York spent much more on Yeezy and Off-White shoes over the the course of 2 years compared to the rest of the states. This is most likely due to the popularity of \"street fashion\" in big cities like Los Angeles, San Francisco, and New York City. \n",
    "\n",
    "#### Average Sale Prices Per State"
   ]
  },
  {
   "cell_type": "code",
   "execution_count": 15,
   "metadata": {},
   "outputs": [],
   "source": [
    "# merge 'sales' dataset with 'orders' dataset\n",
    "regions = pd.merge(sales, orders, how='left', on='Buyer Region')\n",
    "\n",
    "# calculate average sale price per order per state\n",
    "regions['Avg. Sale'] = round(regions['Sale Price'] / regions['Orders'], 2)\n",
    "\n",
    "# sort by descending Avg. Sale\n",
    "regions = regions.sort_values('Avg. Sale', ascending=False)"
   ]
  },
  {
   "cell_type": "code",
   "execution_count": 16,
   "metadata": {},
   "outputs": [
    {
     "data": {
      "image/png": "[encoded data removed]",
      "text/plain": [
       "<Figure size 576x576 with 1 Axes>"
      ]
     },
     "metadata": {
      "needs_background": "light"
     },
     "output_type": "display_data"
    }
   ],
   "source": [
    "# plot top 10 highest Avg. Sale\n",
    "fig, ax1 = plt.subplots(figsize=(8,8))\n",
    "for spine in ['top', 'right']:\n",
    "    ax1.spines[spine].set_visible(False)\n",
    "    \n",
    "ax1 = sns.barplot(x='Avg. Sale', y='Buyer Region', data=regions.iloc[:10], orient='h', palette='viridis', ax=ax1)\n",
    "ax1.set_xlabel('Average Sale Price', fontsize=12)\n",
    "ax1.set_ylabel('Buyer Region', fontsize=12)\n",
    "ax1.set_title('Average Sale Price\\nPer State', fontsize=14)\n",
    "ax1.set_xlim(400,500)\n",
    "\n",
    "plt.show()"
   ]
  },
  {
   "cell_type": "markdown",
   "metadata": {},
   "source": [
    "* Although California had the most orders and the highest sales, it ranks 4th in average sale price per pair of shoes. New York doesn't even make the top ten here.\n",
    "* StockX users in Delaware, Hawaii, and Nevada spend on average the most money for a pair of shoes.\n",
    "\n",
    "### Is there a higher chance of making more money re-selling larger shoe sizes or smaller shoe sizes?"
   ]
  },
  {
   "cell_type": "code",
   "execution_count": 17,
   "metadata": {},
   "outputs": [
    {
     "data": {
      "text/html": [
       "<div>\n",
       "<style scoped>\n",
       "    .dataframe tbody tr th:only-of-type {\n",
       "        vertical-align: middle;\n",
       "    }\n",
       "\n",
       "    .dataframe tbody tr th {\n",
       "        vertical-align: top;\n",
       "    }\n",
       "\n",
       "    .dataframe thead th {\n",
       "        text-align: right;\n",
       "    }\n",
       "</style>\n",
       "<table border=\"1\" class=\"dataframe\">\n",
       "  <thead>\n",
       "    <tr style=\"text-align: right;\">\n",
       "      <th></th>\n",
       "      <th>Order Date</th>\n",
       "      <th>Brand</th>\n",
       "      <th>Sneaker Name</th>\n",
       "      <th>Sale Price</th>\n",
       "      <th>Retail Price</th>\n",
       "      <th>Release Date</th>\n",
       "      <th>Shoe Size</th>\n",
       "      <th>Buyer Region</th>\n",
       "      <th>ROI</th>\n",
       "    </tr>\n",
       "  </thead>\n",
       "  <tbody>\n",
       "    <tr>\n",
       "      <th>0</th>\n",
       "      <td>2017-09-01</td>\n",
       "      <td>Yeezy</td>\n",
       "      <td>Yeezy-Boost-350-Low-V2-Beluga</td>\n",
       "      <td>1097</td>\n",
       "      <td>220</td>\n",
       "      <td>2016-09-24</td>\n",
       "      <td>11.0</td>\n",
       "      <td>California</td>\n",
       "      <td>877</td>\n",
       "    </tr>\n",
       "    <tr>\n",
       "      <th>1</th>\n",
       "      <td>2017-09-01</td>\n",
       "      <td>Yeezy</td>\n",
       "      <td>Yeezy-Boost-350-V2-Core-Black-Copper</td>\n",
       "      <td>685</td>\n",
       "      <td>220</td>\n",
       "      <td>2016-11-23</td>\n",
       "      <td>11.0</td>\n",
       "      <td>California</td>\n",
       "      <td>465</td>\n",
       "    </tr>\n",
       "    <tr>\n",
       "      <th>2</th>\n",
       "      <td>2017-09-01</td>\n",
       "      <td>Yeezy</td>\n",
       "      <td>Yeezy-Boost-350-V2-Core-Black-Green</td>\n",
       "      <td>690</td>\n",
       "      <td>220</td>\n",
       "      <td>2016-11-23</td>\n",
       "      <td>11.0</td>\n",
       "      <td>California</td>\n",
       "      <td>470</td>\n",
       "    </tr>\n",
       "    <tr>\n",
       "      <th>3</th>\n",
       "      <td>2017-09-01</td>\n",
       "      <td>Yeezy</td>\n",
       "      <td>Yeezy-Boost-350-V2-Core-Black-Red</td>\n",
       "      <td>1075</td>\n",
       "      <td>220</td>\n",
       "      <td>2016-11-23</td>\n",
       "      <td>11.5</td>\n",
       "      <td>Kentucky</td>\n",
       "      <td>855</td>\n",
       "    </tr>\n",
       "    <tr>\n",
       "      <th>4</th>\n",
       "      <td>2017-09-01</td>\n",
       "      <td>Yeezy</td>\n",
       "      <td>Yeezy-Boost-350-V2-Core-Black-Red-2017</td>\n",
       "      <td>828</td>\n",
       "      <td>220</td>\n",
       "      <td>2017-02-11</td>\n",
       "      <td>11.0</td>\n",
       "      <td>Rhode Island</td>\n",
       "      <td>608</td>\n",
       "    </tr>\n",
       "  </tbody>\n",
       "</table>\n",
       "</div>"
      ],
      "text/plain": [
       "  Order Date  Brand                            Sneaker Name  Sale Price  \\\n",
       "0 2017-09-01  Yeezy           Yeezy-Boost-350-Low-V2-Beluga        1097   \n",
       "1 2017-09-01  Yeezy    Yeezy-Boost-350-V2-Core-Black-Copper         685   \n",
       "2 2017-09-01  Yeezy     Yeezy-Boost-350-V2-Core-Black-Green         690   \n",
       "3 2017-09-01  Yeezy       Yeezy-Boost-350-V2-Core-Black-Red        1075   \n",
       "4 2017-09-01  Yeezy  Yeezy-Boost-350-V2-Core-Black-Red-2017         828   \n",
       "\n",
       "   Retail Price Release Date  Shoe Size  Buyer Region  ROI  \n",
       "0           220   2016-09-24       11.0    California  877  \n",
       "1           220   2016-11-23       11.0    California  465  \n",
       "2           220   2016-11-23       11.0    California  470  \n",
       "3           220   2016-11-23       11.5      Kentucky  855  \n",
       "4           220   2017-02-11       11.0  Rhode Island  608  "
      ]
     },
     "execution_count": 17,
     "metadata": {},
     "output_type": "execute_result"
    }
   ],
   "source": [
    "sneakers.head()"
   ]
  },
  {
   "cell_type": "code",
   "execution_count": 18,
   "metadata": {},
   "outputs": [],
   "source": [
    "# calculate ROI & count number of orders for each shoe size\n",
    "shoe_sizes = sneakers[['Shoe Size', 'ROI']].copy()\n",
    "shoe_sizes['Orders'] = 1\n",
    "shoe_sizes = (shoe_sizes.groupby(['Shoe Size'], as_index=False).sum()\n",
    "                  .sort_values('Shoe Size', ascending=False)\n",
    "             )"
   ]
  },
  {
   "cell_type": "code",
   "execution_count": 19,
   "metadata": {},
   "outputs": [
    {
     "data": {
      "image/png": "[encoded data removed]",
      "text/plain": [
       "<Figure size 1152x504 with 1 Axes>"
      ]
     },
     "metadata": {
      "needs_background": "light"
     },
     "output_type": "display_data"
    }
   ],
   "source": [
    "# plot ROI vs Shoe Size\n",
    "fig, ax = plt.subplots(figsize=(16,7))\n",
    "\n",
    "for spine in ['top', 'right']:\n",
    "    ax.spines[spine].set_visible(False)\n",
    "    \n",
    "sns.barplot(x='Shoe Size', y='ROI', data=shoe_sizes, ax=ax)\n",
    "ax.set_xlabel('')\n",
    "ax.set_ylabel('ROI', fontsize=12)\n",
    "ax.set_title('Profits per Shoe Size', fontsize=14)\n",
    "\n",
    "plt.show()"
   ]
  },
  {
   "cell_type": "markdown",
   "metadata": {},
   "source": [
    "* The highest selling shoe size is size 10, followed by size 11 and 9. (I'm a size 10, no wonder I can never get the shoes I want!)\n",
    "* An interesting note: Half sizes sell slightly less than their neighboring full sizes (except for 11.5, 12.5, 13.5 and 14.5, which have significantly lower profits than their neighboring full sizes.\n",
    "* Key takeaway: A seller will have a better chance of selling a pair of shoes if they are a size 9, 10 or 11, with size 10 giving them the best chances.\n",
    "\n",
    "### What is the ROI on re-selling Yeezy shoes vs. Off-White x Nike?"
   ]
  },
  {
   "cell_type": "code",
   "execution_count": 20,
   "metadata": {},
   "outputs": [
    {
     "data": {
      "text/html": [
       "<div>\n",
       "<style scoped>\n",
       "    .dataframe tbody tr th:only-of-type {\n",
       "        vertical-align: middle;\n",
       "    }\n",
       "\n",
       "    .dataframe tbody tr th {\n",
       "        vertical-align: top;\n",
       "    }\n",
       "\n",
       "    .dataframe thead th {\n",
       "        text-align: right;\n",
       "    }\n",
       "</style>\n",
       "<table border=\"1\" class=\"dataframe\">\n",
       "  <thead>\n",
       "    <tr style=\"text-align: right;\">\n",
       "      <th></th>\n",
       "      <th>Order Date</th>\n",
       "      <th>Brand</th>\n",
       "      <th>Sneaker Name</th>\n",
       "      <th>Sale Price</th>\n",
       "      <th>Retail Price</th>\n",
       "      <th>Release Date</th>\n",
       "      <th>Shoe Size</th>\n",
       "      <th>Buyer Region</th>\n",
       "      <th>ROI</th>\n",
       "    </tr>\n",
       "  </thead>\n",
       "  <tbody>\n",
       "    <tr>\n",
       "      <th>0</th>\n",
       "      <td>2017-09-01</td>\n",
       "      <td>Yeezy</td>\n",
       "      <td>Yeezy-Boost-350-Low-V2-Beluga</td>\n",
       "      <td>1097</td>\n",
       "      <td>220</td>\n",
       "      <td>2016-09-24</td>\n",
       "      <td>11.0</td>\n",
       "      <td>California</td>\n",
       "      <td>877</td>\n",
       "    </tr>\n",
       "    <tr>\n",
       "      <th>1</th>\n",
       "      <td>2017-09-01</td>\n",
       "      <td>Yeezy</td>\n",
       "      <td>Yeezy-Boost-350-V2-Core-Black-Copper</td>\n",
       "      <td>685</td>\n",
       "      <td>220</td>\n",
       "      <td>2016-11-23</td>\n",
       "      <td>11.0</td>\n",
       "      <td>California</td>\n",
       "      <td>465</td>\n",
       "    </tr>\n",
       "    <tr>\n",
       "      <th>2</th>\n",
       "      <td>2017-09-01</td>\n",
       "      <td>Yeezy</td>\n",
       "      <td>Yeezy-Boost-350-V2-Core-Black-Green</td>\n",
       "      <td>690</td>\n",
       "      <td>220</td>\n",
       "      <td>2016-11-23</td>\n",
       "      <td>11.0</td>\n",
       "      <td>California</td>\n",
       "      <td>470</td>\n",
       "    </tr>\n",
       "    <tr>\n",
       "      <th>3</th>\n",
       "      <td>2017-09-01</td>\n",
       "      <td>Yeezy</td>\n",
       "      <td>Yeezy-Boost-350-V2-Core-Black-Red</td>\n",
       "      <td>1075</td>\n",
       "      <td>220</td>\n",
       "      <td>2016-11-23</td>\n",
       "      <td>11.5</td>\n",
       "      <td>Kentucky</td>\n",
       "      <td>855</td>\n",
       "    </tr>\n",
       "    <tr>\n",
       "      <th>4</th>\n",
       "      <td>2017-09-01</td>\n",
       "      <td>Yeezy</td>\n",
       "      <td>Yeezy-Boost-350-V2-Core-Black-Red-2017</td>\n",
       "      <td>828</td>\n",
       "      <td>220</td>\n",
       "      <td>2017-02-11</td>\n",
       "      <td>11.0</td>\n",
       "      <td>Rhode Island</td>\n",
       "      <td>608</td>\n",
       "    </tr>\n",
       "  </tbody>\n",
       "</table>\n",
       "</div>"
      ],
      "text/plain": [
       "  Order Date  Brand                            Sneaker Name  Sale Price  \\\n",
       "0 2017-09-01  Yeezy           Yeezy-Boost-350-Low-V2-Beluga        1097   \n",
       "1 2017-09-01  Yeezy    Yeezy-Boost-350-V2-Core-Black-Copper         685   \n",
       "2 2017-09-01  Yeezy     Yeezy-Boost-350-V2-Core-Black-Green         690   \n",
       "3 2017-09-01  Yeezy       Yeezy-Boost-350-V2-Core-Black-Red        1075   \n",
       "4 2017-09-01  Yeezy  Yeezy-Boost-350-V2-Core-Black-Red-2017         828   \n",
       "\n",
       "   Retail Price Release Date  Shoe Size  Buyer Region  ROI  \n",
       "0           220   2016-09-24       11.0    California  877  \n",
       "1           220   2016-11-23       11.0    California  465  \n",
       "2           220   2016-11-23       11.0    California  470  \n",
       "3           220   2016-11-23       11.5      Kentucky  855  \n",
       "4           220   2017-02-11       11.0  Rhode Island  608  "
      ]
     },
     "execution_count": 20,
     "metadata": {},
     "output_type": "execute_result"
    }
   ],
   "source": [
    "sneakers.head()"
   ]
  },
  {
   "cell_type": "code",
   "execution_count": 21,
   "metadata": {},
   "outputs": [],
   "source": [
    "# calculate total ROI and number of orders per brand\n",
    "brand_ROI = sneakers[['Brand', 'ROI']].copy()\n",
    "brand_ROI['Orders'] = 1\n",
    "brand_ROI = brand_ROI.groupby(['Brand'], as_index=False).sum()\n",
    "\n",
    "# calculate average ROI per order\n",
    "brand_ROI['Avg. ROI'] = round(brand_ROI['ROI'] / brand_ROI['Orders'], 2)"
   ]
  },
  {
   "cell_type": "code",
   "execution_count": 22,
   "metadata": {},
   "outputs": [
    {
     "data": {
      "image/png": "[encoded data removed]",
      "text/plain": [
       "<Figure size 1152x504 with 3 Axes>"
      ]
     },
     "metadata": {
      "needs_background": "light"
     },
     "output_type": "display_data"
    }
   ],
   "source": [
    "fig = plt.figure(figsize=(16, 7))\n",
    "ax1 = fig.add_subplot(1,3,1)\n",
    "ax2 = fig.add_subplot(1,3,2)\n",
    "ax3 = fig.add_subplot(1,3,3)\n",
    "        \n",
    "# brand vs ROI\n",
    "sns.barplot(x='Brand', y='ROI', data=brand_ROI, palette=lakers, ax=ax1)\n",
    "\n",
    "# brand vs avg. ROI\n",
    "sns.barplot(x='Brand', y='Avg. ROI', data=brand_ROI, palette=lakers, ax=ax2)\n",
    "\n",
    "# brand vs orders\n",
    "sns.barplot(x='Brand', y='Orders', data=brand_ROI, palette=lakers, ax=ax3)\n",
    "\n",
    "for ax in [ax1, ax2, ax3]:\n",
    "    for spine in ['top', 'right', 'left']:\n",
    "        ax.spines[spine].set_visible(False)\n",
    "    ax.set_xlabel('')\n",
    "    ax.set_ylabel('')\n",
    "    \n",
    "ax1.set_title('Total ROI ($)', fontsize=14)\n",
    "ax2.set_title('Avg. ROI per Sale ($)', fontsize=14)\n",
    "ax3.set_title('Total Number of Orders', fontsize=14)\n",
    "\n",
    "plt.subplots_adjust(wspace=0.7)\n",
    "plt.show()"
   ]
  },
  {
   "cell_type": "markdown",
   "metadata": {},
   "source": [
    "* The first plot shows that over this 2-year time period, StockX sellers in total made more money selling Off-White branded shoes. (Off-White totaled at around \\\\$14 million, while Yeezy totaled at around \\\\$10 million.)\n",
    "* The second plot complements that fact by showing that the average ROI on a pair of Off-White shoes (\\~\\\\$500) is over 3 times more than the average ROI on a pair of Yeezys (\\~\\\\$150).\n",
    "* The last plot, however, shows that a seller is over two times more likely to sell a pair of Yeezys (\\~72,000 orders) than a pair of Off-White shoes (\\~28,000 orders).\n",
    "\n",
    "### Do these sneakers sell more during a certain time of the year?"
   ]
  },
  {
   "cell_type": "code",
   "execution_count": 23,
   "metadata": {},
   "outputs": [],
   "source": [
    "# isolate 'Order Date', 'Brand', and 'ROI'\n",
    "seasons = sneakers[['Order Date', 'Brand', 'ROI']].copy()\n",
    "\n",
    "# extract year and month from 'Order Date'\n",
    "seasons['Year'] = seasons['Order Date'].dt.year\n",
    "seasons['Month'] = seasons['Order Date'].dt.month\n",
    "seasons.drop(['Order Date'], axis=1, inplace=True)\n",
    "\n",
    "# separate by year\n",
    "year_2017 = seasons[seasons['Year'] == 2017].copy()\n",
    "year_2018 = seasons[seasons['Year'] == 2018].copy()\n",
    "year_2019 = seasons[seasons['Year'] == 2019].copy()\n",
    "\n",
    "# drop 'Year' and 'Brand' and group by 'Month'\n",
    "for year in [year_2017, year_2018, year_2019]:\n",
    "    year.drop(['Year', 'Brand'], axis=1, inplace=True)\n",
    "    year['Orders'] = 1\n",
    "\n",
    "year_2017 = year_2017.groupby(['Month'], as_index=False).sum()\n",
    "year_2018 = year_2018.groupby(['Month'], as_index=False).sum()\n",
    "year_2019 = year_2019.groupby(['Month'], as_index=False).sum()"
   ]
  },
  {
   "cell_type": "code",
   "execution_count": 24,
   "metadata": {},
   "outputs": [
    {
     "data": {
      "text/html": [
       "<div>\n",
       "<style scoped>\n",
       "    .dataframe tbody tr th:only-of-type {\n",
       "        vertical-align: middle;\n",
       "    }\n",
       "\n",
       "    .dataframe tbody tr th {\n",
       "        vertical-align: top;\n",
       "    }\n",
       "\n",
       "    .dataframe thead th {\n",
       "        text-align: right;\n",
       "    }\n",
       "</style>\n",
       "<table border=\"1\" class=\"dataframe\">\n",
       "  <thead>\n",
       "    <tr style=\"text-align: right;\">\n",
       "      <th></th>\n",
       "      <th>Month</th>\n",
       "      <th>ROI</th>\n",
       "      <th>Orders</th>\n",
       "    </tr>\n",
       "  </thead>\n",
       "  <tbody>\n",
       "    <tr>\n",
       "      <th>0</th>\n",
       "      <td>9</td>\n",
       "      <td>421735</td>\n",
       "      <td>697</td>\n",
       "    </tr>\n",
       "    <tr>\n",
       "      <th>1</th>\n",
       "      <td>10</td>\n",
       "      <td>329487</td>\n",
       "      <td>610</td>\n",
       "    </tr>\n",
       "    <tr>\n",
       "      <th>2</th>\n",
       "      <td>11</td>\n",
       "      <td>1651439</td>\n",
       "      <td>4644</td>\n",
       "    </tr>\n",
       "    <tr>\n",
       "      <th>3</th>\n",
       "      <td>12</td>\n",
       "      <td>1629533</td>\n",
       "      <td>7342</td>\n",
       "    </tr>\n",
       "  </tbody>\n",
       "</table>\n",
       "</div>"
      ],
      "text/plain": [
       "   Month      ROI  Orders\n",
       "0      9   421735     697\n",
       "1     10   329487     610\n",
       "2     11  1651439    4644\n",
       "3     12  1629533    7342"
      ]
     },
     "execution_count": 24,
     "metadata": {},
     "output_type": "execute_result"
    }
   ],
   "source": [
    "year_2017"
   ]
  },
  {
   "cell_type": "code",
   "execution_count": 25,
   "metadata": {},
   "outputs": [
    {
     "data": {
      "text/html": [
       "<div>\n",
       "<style scoped>\n",
       "    .dataframe tbody tr th:only-of-type {\n",
       "        vertical-align: middle;\n",
       "    }\n",
       "\n",
       "    .dataframe tbody tr th {\n",
       "        vertical-align: top;\n",
       "    }\n",
       "\n",
       "    .dataframe thead th {\n",
       "        text-align: right;\n",
       "    }\n",
       "</style>\n",
       "<table border=\"1\" class=\"dataframe\">\n",
       "  <thead>\n",
       "    <tr style=\"text-align: right;\">\n",
       "      <th></th>\n",
       "      <th>Month</th>\n",
       "      <th>ROI</th>\n",
       "      <th>Orders</th>\n",
       "    </tr>\n",
       "  </thead>\n",
       "  <tbody>\n",
       "    <tr>\n",
       "      <th>0</th>\n",
       "      <td>1</td>\n",
       "      <td>952821</td>\n",
       "      <td>3664</td>\n",
       "    </tr>\n",
       "    <tr>\n",
       "      <th>1</th>\n",
       "      <td>2</td>\n",
       "      <td>731003</td>\n",
       "      <td>2428</td>\n",
       "    </tr>\n",
       "    <tr>\n",
       "      <th>2</th>\n",
       "      <td>3</td>\n",
       "      <td>1030856</td>\n",
       "      <td>2745</td>\n",
       "    </tr>\n",
       "    <tr>\n",
       "      <th>3</th>\n",
       "      <td>4</td>\n",
       "      <td>992930</td>\n",
       "      <td>2756</td>\n",
       "    </tr>\n",
       "    <tr>\n",
       "      <th>4</th>\n",
       "      <td>5</td>\n",
       "      <td>1625627</td>\n",
       "      <td>3456</td>\n",
       "    </tr>\n",
       "    <tr>\n",
       "      <th>5</th>\n",
       "      <td>6</td>\n",
       "      <td>1676018</td>\n",
       "      <td>5431</td>\n",
       "    </tr>\n",
       "    <tr>\n",
       "      <th>6</th>\n",
       "      <td>7</td>\n",
       "      <td>1523297</td>\n",
       "      <td>7434</td>\n",
       "    </tr>\n",
       "    <tr>\n",
       "      <th>7</th>\n",
       "      <td>8</td>\n",
       "      <td>1942638</td>\n",
       "      <td>6090</td>\n",
       "    </tr>\n",
       "    <tr>\n",
       "      <th>8</th>\n",
       "      <td>9</td>\n",
       "      <td>975324</td>\n",
       "      <td>3974</td>\n",
       "    </tr>\n",
       "    <tr>\n",
       "      <th>9</th>\n",
       "      <td>10</td>\n",
       "      <td>1816159</td>\n",
       "      <td>6697</td>\n",
       "    </tr>\n",
       "    <tr>\n",
       "      <th>10</th>\n",
       "      <td>11</td>\n",
       "      <td>1503798</td>\n",
       "      <td>10845</td>\n",
       "    </tr>\n",
       "    <tr>\n",
       "      <th>11</th>\n",
       "      <td>12</td>\n",
       "      <td>1968758</td>\n",
       "      <td>14950</td>\n",
       "    </tr>\n",
       "  </tbody>\n",
       "</table>\n",
       "</div>"
      ],
      "text/plain": [
       "    Month      ROI  Orders\n",
       "0       1   952821    3664\n",
       "1       2   731003    2428\n",
       "2       3  1030856    2745\n",
       "3       4   992930    2756\n",
       "4       5  1625627    3456\n",
       "5       6  1676018    5431\n",
       "6       7  1523297    7434\n",
       "7       8  1942638    6090\n",
       "8       9   975324    3974\n",
       "9      10  1816159    6697\n",
       "10     11  1503798   10845\n",
       "11     12  1968758   14950"
      ]
     },
     "execution_count": 25,
     "metadata": {},
     "output_type": "execute_result"
    }
   ],
   "source": [
    "year_2018"
   ]
  },
  {
   "cell_type": "code",
   "execution_count": 26,
   "metadata": {},
   "outputs": [
    {
     "data": {
      "text/html": [
       "<div>\n",
       "<style scoped>\n",
       "    .dataframe tbody tr th:only-of-type {\n",
       "        vertical-align: middle;\n",
       "    }\n",
       "\n",
       "    .dataframe tbody tr th {\n",
       "        vertical-align: top;\n",
       "    }\n",
       "\n",
       "    .dataframe thead th {\n",
       "        text-align: right;\n",
       "    }\n",
       "</style>\n",
       "<table border=\"1\" class=\"dataframe\">\n",
       "  <thead>\n",
       "    <tr style=\"text-align: right;\">\n",
       "      <th></th>\n",
       "      <th>Month</th>\n",
       "      <th>ROI</th>\n",
       "      <th>Orders</th>\n",
       "    </tr>\n",
       "  </thead>\n",
       "  <tbody>\n",
       "    <tr>\n",
       "      <th>0</th>\n",
       "      <td>1</td>\n",
       "      <td>1742155</td>\n",
       "      <td>10847</td>\n",
       "    </tr>\n",
       "    <tr>\n",
       "      <th>1</th>\n",
       "      <td>2</td>\n",
       "      <td>1278062</td>\n",
       "      <td>5346</td>\n",
       "    </tr>\n",
       "  </tbody>\n",
       "</table>\n",
       "</div>"
      ],
      "text/plain": [
       "   Month      ROI  Orders\n",
       "0      1  1742155   10847\n",
       "1      2  1278062    5346"
      ]
     },
     "execution_count": 26,
     "metadata": {},
     "output_type": "execute_result"
    }
   ],
   "source": [
    "year_2019"
   ]
  },
  {
   "cell_type": "markdown",
   "metadata": {},
   "source": [
    "Since the only complete year is 2018, it would be the only year that could show the differences in sales throughout the year."
   ]
  },
  {
   "cell_type": "code",
   "execution_count": 27,
   "metadata": {},
   "outputs": [
    {
     "data": {
      "image/png": "[encoded data removed]",
      "text/plain": [
       "<Figure size 1008x576 with 2 Axes>"
      ]
     },
     "metadata": {
      "needs_background": "light"
     },
     "output_type": "display_data"
    }
   ],
   "source": [
    "fig = plt.figure(figsize=(14,8))\n",
    "ax1 = fig.add_subplot(2,1,1)\n",
    "ax2 = fig.add_subplot(2,1,2)\n",
    "for ax in [ax1, ax2]:\n",
    "    for spine in ['top', 'right']:\n",
    "        ax.spines[spine].set_visible(False)\n",
    "\n",
    "# plot monthly number of orders\n",
    "sns.barplot(x='Month', y='Orders', data=year_2018, ax=ax1)\n",
    "\n",
    "# plot monthly ROI\n",
    "sns.barplot(x='Month', y='ROI', data=year_2018, ax=ax2)\n",
    "\n",
    "ax2.set_ylim(500000, 2000000)\n",
    "ax1.set_xlabel('')\n",
    "ax2.set_xlabel('Month', fontsize=12)\n",
    "ax1.set_ylabel('Number of Orders', fontsize=12)\n",
    "ax2.set_ylabel('ROI', fontsize=12)\n",
    "\n",
    "plt.show()"
   ]
  },
  {
   "cell_type": "markdown",
   "metadata": {},
   "source": [
    "* Although December has over twice as many transactions as in August, the ROI in these months are nearly the same. Furthermore, the number of transactions in August were less than that in October and November, yet sellers made more money in August.\n",
    "* StockX sellers experienced higher ROI starting in May and up until the end of the year. The only exception was the significant drop in September, after which the ROI picked back up again.\n",
    "\n",
    "#### Yeezy vs. Off-White ROI"
   ]
  },
  {
   "cell_type": "code",
   "execution_count": 28,
   "metadata": {},
   "outputs": [
    {
     "data": {
      "image/png": "[encoded data removed]",
      "text/plain": [
       "<Figure size 1008x576 with 2 Axes>"
      ]
     },
     "metadata": {
      "needs_background": "light"
     },
     "output_type": "display_data"
    }
   ],
   "source": [
    "# isolate the brands in year 2018\n",
    "yeezy_2018 = seasons[(seasons['Brand'] == 'Yeezy') & (seasons['Year'] == 2018)].copy()\n",
    "offwhite_2018 = seasons[(seasons['Brand'] == 'Off-White') & (seasons['Year'] == 2018)].copy()\n",
    "\n",
    "# drop Year and Brand column, add Orders column\n",
    "for brand in [yeezy_2018, offwhite_2018]:\n",
    "    brand.drop(['Year', 'Brand'], axis=1, inplace=True)\n",
    "    brand['Orders'] = 1\n",
    "    \n",
    "# group by Month\n",
    "yeezy_2018 = yeezy_2018.groupby(['Month'], as_index=False).sum()\n",
    "offwhite_2018 = offwhite_2018.groupby(['Month'], as_index=False).sum()\n",
    "\n",
    "# plot monthly ROI for each brand\n",
    "fig = plt.figure(figsize=(14,8))\n",
    "ax1 = fig.add_subplot(2,1,1)\n",
    "ax2 = fig.add_subplot(2,1,2, sharey=ax1)\n",
    "for ax in [ax1, ax2]:\n",
    "    for spine in ['top', 'right']:\n",
    "        ax.spines[spine].set_visible(False)\n",
    "\n",
    "# yeezy\n",
    "sns.barplot(x='Month', y='ROI', data=yeezy_2018, ax=ax1)\n",
    "ax1.set_title('Yeezy Monthly ROI', fontsize=14)\n",
    "ax1.set_xlabel('')\n",
    "ax1.set_ylabel('ROI', fontsize=12)\n",
    "\n",
    "# off-white\n",
    "sns.barplot(x='Month', y='ROI', data=offwhite_2018, ax=ax2)\n",
    "ax2.set_title('Off-White Monthly ROI', fontsize=14)\n",
    "ax2.set_xlabel('Month', fontsize=12)\n",
    "ax2.set_ylabel('ROI', fontsize=12)\n",
    "\n",
    "ax1.axhline(y=1.53e6, ls=':', color='green')\n",
    "ax2.axhline(y=1.53e6, ls=':', color='green', label='Max Monthly ROI')\n",
    "\n",
    "plt.legend(bbox_to_anchor=(1.2,1.2))\n",
    "plt.show()"
   ]
  },
  {
   "cell_type": "markdown",
   "metadata": {},
   "source": [
    "* Off-White sneaker sellers have a better chance of achieving a high monthly ROI throughout the second half of the year, however Yeezy sellers experience a more consistent monthly ROI.\n",
    "\n",
    "### Are Yeezy and Off-White sale increasing or decreasing?"
   ]
  },
  {
   "cell_type": "code",
   "execution_count": 29,
   "metadata": {},
   "outputs": [
    {
     "data": {
      "text/html": [
       "<div>\n",
       "<style scoped>\n",
       "    .dataframe tbody tr th:only-of-type {\n",
       "        vertical-align: middle;\n",
       "    }\n",
       "\n",
       "    .dataframe tbody tr th {\n",
       "        vertical-align: top;\n",
       "    }\n",
       "\n",
       "    .dataframe thead th {\n",
       "        text-align: right;\n",
       "    }\n",
       "</style>\n",
       "<table border=\"1\" class=\"dataframe\">\n",
       "  <thead>\n",
       "    <tr style=\"text-align: right;\">\n",
       "      <th></th>\n",
       "      <th>Order Date</th>\n",
       "      <th>Brand</th>\n",
       "      <th>Sneaker Name</th>\n",
       "      <th>Sale Price</th>\n",
       "      <th>Retail Price</th>\n",
       "      <th>Release Date</th>\n",
       "      <th>Shoe Size</th>\n",
       "      <th>Buyer Region</th>\n",
       "      <th>ROI</th>\n",
       "    </tr>\n",
       "  </thead>\n",
       "  <tbody>\n",
       "    <tr>\n",
       "      <th>0</th>\n",
       "      <td>2017-09-01</td>\n",
       "      <td>Yeezy</td>\n",
       "      <td>Yeezy-Boost-350-Low-V2-Beluga</td>\n",
       "      <td>1097</td>\n",
       "      <td>220</td>\n",
       "      <td>2016-09-24</td>\n",
       "      <td>11.0</td>\n",
       "      <td>California</td>\n",
       "      <td>877</td>\n",
       "    </tr>\n",
       "    <tr>\n",
       "      <th>1</th>\n",
       "      <td>2017-09-01</td>\n",
       "      <td>Yeezy</td>\n",
       "      <td>Yeezy-Boost-350-V2-Core-Black-Copper</td>\n",
       "      <td>685</td>\n",
       "      <td>220</td>\n",
       "      <td>2016-11-23</td>\n",
       "      <td>11.0</td>\n",
       "      <td>California</td>\n",
       "      <td>465</td>\n",
       "    </tr>\n",
       "    <tr>\n",
       "      <th>2</th>\n",
       "      <td>2017-09-01</td>\n",
       "      <td>Yeezy</td>\n",
       "      <td>Yeezy-Boost-350-V2-Core-Black-Green</td>\n",
       "      <td>690</td>\n",
       "      <td>220</td>\n",
       "      <td>2016-11-23</td>\n",
       "      <td>11.0</td>\n",
       "      <td>California</td>\n",
       "      <td>470</td>\n",
       "    </tr>\n",
       "    <tr>\n",
       "      <th>3</th>\n",
       "      <td>2017-09-01</td>\n",
       "      <td>Yeezy</td>\n",
       "      <td>Yeezy-Boost-350-V2-Core-Black-Red</td>\n",
       "      <td>1075</td>\n",
       "      <td>220</td>\n",
       "      <td>2016-11-23</td>\n",
       "      <td>11.5</td>\n",
       "      <td>Kentucky</td>\n",
       "      <td>855</td>\n",
       "    </tr>\n",
       "    <tr>\n",
       "      <th>4</th>\n",
       "      <td>2017-09-01</td>\n",
       "      <td>Yeezy</td>\n",
       "      <td>Yeezy-Boost-350-V2-Core-Black-Red-2017</td>\n",
       "      <td>828</td>\n",
       "      <td>220</td>\n",
       "      <td>2017-02-11</td>\n",
       "      <td>11.0</td>\n",
       "      <td>Rhode Island</td>\n",
       "      <td>608</td>\n",
       "    </tr>\n",
       "  </tbody>\n",
       "</table>\n",
       "</div>"
      ],
      "text/plain": [
       "  Order Date  Brand                            Sneaker Name  Sale Price  \\\n",
       "0 2017-09-01  Yeezy           Yeezy-Boost-350-Low-V2-Beluga        1097   \n",
       "1 2017-09-01  Yeezy    Yeezy-Boost-350-V2-Core-Black-Copper         685   \n",
       "2 2017-09-01  Yeezy     Yeezy-Boost-350-V2-Core-Black-Green         690   \n",
       "3 2017-09-01  Yeezy       Yeezy-Boost-350-V2-Core-Black-Red        1075   \n",
       "4 2017-09-01  Yeezy  Yeezy-Boost-350-V2-Core-Black-Red-2017         828   \n",
       "\n",
       "   Retail Price Release Date  Shoe Size  Buyer Region  ROI  \n",
       "0           220   2016-09-24       11.0    California  877  \n",
       "1           220   2016-11-23       11.0    California  465  \n",
       "2           220   2016-11-23       11.0    California  470  \n",
       "3           220   2016-11-23       11.5      Kentucky  855  \n",
       "4           220   2017-02-11       11.0  Rhode Island  608  "
      ]
     },
     "execution_count": 29,
     "metadata": {},
     "output_type": "execute_result"
    }
   ],
   "source": [
    "sneakers.head()"
   ]
  },
  {
   "cell_type": "code",
   "execution_count": 30,
   "metadata": {},
   "outputs": [
    {
     "data": {
      "image/png": "[encoded data removed]",
      "text/plain": [
       "<Figure size 1440x360 with 2 Axes>"
      ]
     },
     "metadata": {
      "needs_background": "light"
     },
     "output_type": "display_data"
    }
   ],
   "source": [
    "# isolate Order Date and Sales by Brand\n",
    "# yeezy \n",
    "yeezy_sales = sneakers[sneakers['Brand'] == 'Yeezy'][['Order Date', 'Sale Price']].copy()\n",
    "yeezy_sales['Orders'] = 1\n",
    "yeezy_sales = yeezy_sales.groupby(['Order Date'], as_index=False).sum()\n",
    "\n",
    "# off-white\n",
    "offwhite_sales = sneakers[sneakers['Brand'] == 'Off-White'][['Order Date', 'Sale Price']].copy()\n",
    "offwhite_sales['Orders'] = 1\n",
    "offwhite_sales = offwhite_sales.groupby(['Order Date'], as_index=False).sum()\n",
    "\n",
    "fig = plt.figure(figsize=(20, 5))\n",
    "ax1 = fig.add_subplot(1,2,1)\n",
    "ax2 = fig.add_subplot(1,2,2)\n",
    "for ax in [ax1, ax2]:\n",
    "    for spine in ['top', 'right']:\n",
    "        ax.spines[spine].set_visible(False)\n",
    "\n",
    "ax1.set_title('Revenue', fontsize=14)\n",
    "ax2.set_title('Number of Sales', fontsize=14)\n",
    "\n",
    "# plot Sale Price vs Order Date on ax1\n",
    "sns.lineplot(x='Order Date', y='Sale Price', data=yeezy_sales, color=purple, lw=1, ax=ax1, label='Yeezy')\n",
    "sns.lineplot(x='Order Date', y='Sale Price', data=offwhite_sales, color=gold, lw=1, ax=ax1, label='Off-White')\n",
    "\n",
    "# plot Orders vs Order Date on ax2\n",
    "sns.lineplot(x='Order Date', y='Orders', data=yeezy_sales, color=purple, lw=1, ax=ax2)\n",
    "sns.lineplot(x='Order Date', y='Orders', data=offwhite_sales, color=gold, lw=1, ax=ax2)\n",
    "\n",
    "\n",
    "plt.show()"
   ]
  },
  {
   "cell_type": "markdown",
   "metadata": {},
   "source": [
    "* The Yeezy sales tend to repeat a pattern of large spikes with a subsequent downward trend, but the data shows no indication that Yeezy sales are increasing or decreasing overall.\n",
    "* Off-White shoe sales follow a similar pattern of spikes and dips, but the data also does not show any indication that Off-White sales are increasing or decreasing overall.\n",
    "* The spikes most likely appear when the brands drop a new shoe collection or restock a highly in-demand shoe.\n",
    "* The spikes all appear in the latter half of the year. This pattern could be useful to people who decide to create a business out of re-selling shoes.\n",
    "\n",
    "## Results and Conclusions\n",
    "__Are customers in certain regions more likely to spend more on sneakers?__  \n",
    "StockX users in California and New York spent the most money on either Yeezy or Off-White branded shoes over the course of 2 years, about \\\\$9.2 million and \\\\$7.3 million, respectively. The state with the next highest sales is Oregon, with users there spending about \\\\$3.6 million over 2 years. The remainder of the states spent less than \\\\$3 million on Yeezy and Off-White shoes. The median amount of money spent on these shoes is only around \\\\$280,000, which pales in comparison to the \\\\$9.2 million users in California spent.\n",
    "\n",
    "__Is there a higher chance of making money re-selling larger shoe sizes or smaller shoe sizes?__  \n",
    "Size 10 shoes were a clear winner in terms of number of pairs sold and ROI. The next top selling shoe sizes were size 11 and size 9, with size 11 shoes selling just slightly more than size 9 shoes. In terms of sales for half-sizes and full-sizes, full-sizes consistently sold more than their neighboring half-sizes.\n",
    "\n",
    "__What is the ROI on re-selling Yeezy shoes vs. Off-White x Nike?__  \n",
    "In total, re-selling Off-White shoes earned about \\\\$4 million more in ROI than Yeezys. The average ROI per pair of Off-White shoes was almost \\\\$500, compared to the average ROI of about \\\\$140 for Yeezys. Although selling Off-White shoes provided a much higher ROI, sellers had a much higher chance of actually selling a pair of Yeezys. Of the almost 100,000 pairs of shoes sold in the data, over 70,000 were Yeezys&mdash;in other words, a user had over a 70\\% chance of successfully selling a pair of Yeezys and less than 30\\% chance of selling an Off-White pair.\n",
    "\n",
    "__Do these sneakers sell more during a certain time of the year?__  \n",
    "In the year 2018, for most of the year the number of sales remained below 7,000 sales per month, with most lingering around 3,000 to 4,000 sales per month. The data then showed a sudden increase in sales in November and December of that same year, about 10,000 and 15,000 sales, respectively. The increase in sales is most likely due to the holiday season celebrated in November and December. In terms of ROI, however, the monthly ROI was relatively high from May until December, with the exception of September. Upon further investigation, the high monthly ROIs were heavily influenced by Off-White sales, which we've previously found to have a premium price tag.\n",
    "\n",
    "__Are Yeezy and Off-White sales increasing or decreasing?__  \n",
    "The data showed no clear trend that indicated increasing or decreasing sales. The data did show that sales experienced large spikes, most likely coinciding with the brands releasing a new shoe collection, followed by long periods of low sales.\n",
    "\n",
    "The results above can potentially help companies or independent sellers improve their sales performance. For instance, a shoe company that finds out that California and New York are the top two states in the sneaker market could choose to spend more of their advertising budget in those two states and less of it in, say, Wyoming. Or, independent re-sellers, who only stock up on rare shoes just a few times a year, could maximize their profits by focusing their selections on the most in-demand shoe sizes and the shoe brands that are almost guaranteed to re-sell quickly. These are just a few of the practical uses of data analysis in the sneaker market. Although this analysis is focused on Yeezy and Off-White sneaker sales, it can be expanded reflect the sales performances of a variety of brands and clothing items."
   ]
  }
 ],
 "metadata": {
  "kernelspec": {
   "display_name": "Python 3",
   "language": "python",
   "name": "python3"
  },
  "language_info": {
   "codemirror_mode": {
    "name": "ipython",
    "version": 3
   },
   "file_extension": ".py",
   "mimetype": "text/x-python",
   "name": "python",
   "nbconvert_exporter": "python",
   "pygments_lexer": "ipython3",
   "version": "3.7.1"
  }
 },
 "nbformat": 4,
 "nbformat_minor": 2
}
